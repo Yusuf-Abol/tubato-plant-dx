{
 "cells": [
  {
   "cell_type": "code",
   "execution_count": 1,
   "id": "00d4f676",
   "metadata": {},
   "outputs": [],
   "source": [
    "import os\n",
    "import shutil\n",
    "import random"
   ]
  },
  {
   "cell_type": "markdown",
   "id": "28a0aae6",
   "metadata": {},
   "source": [
    "## Subset data for exploration"
   ]
  },
  {
   "cell_type": "code",
   "execution_count": null,
   "id": "38396ec0",
   "metadata": {},
   "outputs": [],
   "source": [
    "# Original data\n",
    "source_dir = \"C://Users//DELL//Desktop//Computer_Vision_Projects//tubato_plant_dx//data//raw//train\" \n",
    "# Destination\n",
    "dest_dir = \"C://Users//DELL//Desktop//Computer_Vision_Projects//tubato_plant_dx//data//external//train\"\n",
    "\n",
    "fraction = 0.1                      # Percentage of data to copy (10%)"
   ]
  },
  {
   "cell_type": "code",
   "execution_count": null,
   "id": "3674cb1a",
   "metadata": {},
   "outputs": [
    {
     "name": "stdout",
     "output_type": "stream",
     "text": [
      "Subset created at: C://Users//DELL//Desktop//Computer_Vision_Projects//tubato_plant_dx//data//external//train\n"
     ]
    }
   ],
   "source": [
    "# PROCESS EACH CLASS\n",
    "for cls in os.listdir(source_dir):\n",
    "    src_class_path = os.path.join(source_dir, cls)\n",
    "    dst_class_path = os.path.join(dest_dir, cls)\n",
    "    os.makedirs(dst_class_path, exist_ok=True)  # Make folder if it doesn't exist\n",
    "\n",
    "    files = os.listdir(src_class_path)\n",
    "    sample_files = random.sample(files, max(1, int(len(files) * fraction)))  # Sample fraction\n",
    "\n",
    "    for f in sample_files:\n",
    "        shutil.copy(os.path.join(src_class_path, f), dst_class_path)  # Copy file\n",
    "\n",
    "print(f\"Subset created at: {dest_dir}\")"
   ]
  }
 ],
 "metadata": {
  "kernelspec": {
   "display_name": "tubato_env",
   "language": "python",
   "name": "python3"
  },
  "language_info": {
   "codemirror_mode": {
    "name": "ipython",
    "version": 3
   },
   "file_extension": ".py",
   "mimetype": "text/x-python",
   "name": "python",
   "nbconvert_exporter": "python",
   "pygments_lexer": "ipython3",
   "version": "3.11.13"
  }
 },
 "nbformat": 4,
 "nbformat_minor": 5
}
