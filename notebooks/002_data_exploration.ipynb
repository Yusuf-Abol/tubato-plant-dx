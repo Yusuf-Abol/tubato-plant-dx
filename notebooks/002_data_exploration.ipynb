{
 "cells": [
  {
   "cell_type": "code",
   "execution_count": 1,
   "id": "37c52a52",
   "metadata": {},
   "outputs": [],
   "source": [
    "import os\n",
    "import sys\n",
    "from collections import Counter\n",
    "\n",
    "import numpy as np\n",
    "import pandas as pd\n",
    "\n",
    "import matplotlib\n",
    "import matplotlib.pyplot as plt\n",
    "\n",
    "import torch\n",
    "from torchvision import datasets, transforms\n",
    "from torch.utils.data import DataLoader, Subset, random_split\n",
    "from torchinfo import summary\n",
    "from tqdm.notebook import tqdm"
   ]
  },
  {
   "cell_type": "code",
   "execution_count": 2,
   "id": "dec7bf4a",
   "metadata": {},
   "outputs": [
    {
     "name": "stdout",
     "output_type": "stream",
     "text": [
      "Using cpu device\n"
     ]
    }
   ],
   "source": [
    "if torch.cuda.is_available():\n",
    "    device = \"cuda\"\n",
    "elif torch.backends.mps.is_available():\n",
    "    device = \"mps\"\n",
    "else:\n",
    "    device = \"cpu\"\n",
    "    \n",
    "print(f\"Using {device} device\")"
   ]
  },
  {
   "cell_type": "code",
   "execution_count": 3,
   "id": "7ff2d934",
   "metadata": {},
   "outputs": [],
   "source": [
    "class ConvertToRGB:\n",
    "    def __call__(self, img):\n",
    "        if img.mode != \"RGB\":\n",
    "            img = img.convert(\"RGB\")\n",
    "        return img\n",
    "    \n",
    "transform = transforms.Compose(\n",
    "    [\n",
    "        ConvertToRGB(),\n",
    "        transforms.Resize((224,224)),\n",
    "        transforms.ToTensor(),\n",
    "    ]\n",
    ")"
   ]
  },
  {
   "cell_type": "markdown",
   "id": "24dcd4d8",
   "metadata": {},
   "source": [
    "## Data Path Setup"
   ]
  },
  {
   "cell_type": "code",
   "execution_count": 4,
   "id": "ecfce24e",
   "metadata": {},
   "outputs": [
    {
     "name": "stdout",
     "output_type": "stream",
     "text": [
      "Will read data from C://Users//DELL//Desktop//Computer_Vision_Projects//tubato_plant_dx//data//external//train\n"
     ]
    }
   ],
   "source": [
    "data_dir = \"C://Users//DELL//Desktop//Computer_Vision_Projects//tubato_plant_dx//data//external//\"\n",
    "train_dir = os.path.join(data_dir, 'train')\n",
    "\n",
    "print(\"Will read data from\", train_dir)"
   ]
  },
  {
   "cell_type": "code",
   "execution_count": 5,
   "id": "7bbf0be3",
   "metadata": {},
   "outputs": [
    {
     "name": "stdout",
     "output_type": "stream",
     "text": [
      "Classes:\n",
      "['cassava_brown_streak', 'cassava_mosaic_disease', 'healthy', 'potato_early_blight', 'potato_late_blight', 'tomato_early_blight', 'tomato_late_blight']\n",
      "That's 7 classes\n",
      "\n",
      "Tensor shape for one image:\n",
      "torch.Size([3, 224, 224])\n"
     ]
    }
   ],
   "source": [
    "dataset = datasets.ImageFolder(root=train_dir, transform=transform)\n",
    "\n",
    "print(\"Classes:\")\n",
    "print(dataset.classes)\n",
    "print(f\"That's {len(dataset.classes)} classes\")\n",
    "print()\n",
    "print(\"Tensor shape for one image:\")\n",
    "print(dataset[0][0].shape)"
   ]
  },
  {
   "cell_type": "code",
   "execution_count": 6,
   "id": "2382467f",
   "metadata": {},
   "outputs": [
    {
     "name": "stdout",
     "output_type": "stream",
     "text": [
      "Shape of one batch: torch.Size([20, 3, 224, 224])\n",
      "Shape of labels:torch.Size([20])\n"
     ]
    }
   ],
   "source": [
    "batch_size = 20\n",
    "dataset_loader = DataLoader(dataset, batch_size=batch_size)\n",
    "\n",
    "first_batch = next(iter(dataset_loader))\n",
    "print(f\"Shape of one batch: {first_batch[0].shape}\")\n",
    "print(f\"Shape of labels:{first_batch[1].shape}\")"
   ]
  },
  {
   "cell_type": "markdown",
   "id": "4e64fd0f",
   "metadata": {},
   "source": [
    "## Preparing Data"
   ]
  },
  {
   "cell_type": "code",
   "execution_count": 7,
   "id": "d65a50c2",
   "metadata": {},
   "outputs": [],
   "source": [
    "def get_mean_std(loader):\n",
    "    channels_sum, channels_squared_sum, num_batches = 0, 0, 0\n",
    "    for data, _ in tqdm(loader, desc=\"Computing mean and std\", leave=False):\n",
    "        channels_sum += torch.mean(data, dim=[0, 2, 3])\n",
    "        channels_squared_sum += torch.mean(data**2, dim=[0, 2, 3])\n",
    "        num_batches +=1\n",
    "    mean = channels_sum/num_batches\n",
    "    std = (channels_squared_sum / num_batches - mean**2)**0.5\n",
    "    \n",
    "    return mean, std"
   ]
  },
  {
   "cell_type": "markdown",
   "id": "8767c169",
   "metadata": {},
   "source": [
    " Next, run the \"get_mean_std\" function on the training data to calculate the channel mean & std."
   ]
  },
  {
   "cell_type": "code",
   "execution_count": 8,
   "id": "a99d06c1",
   "metadata": {},
   "outputs": [
    {
     "data": {
      "application/vnd.jupyter.widget-view+json": {
       "model_id": "3da79d9a0e9140caa5dae6a5e1c33454",
       "version_major": 2,
       "version_minor": 0
      },
      "text/plain": [
       "Computing mean and std:   0%|          | 0/68 [00:00<?, ?it/s]"
      ]
     },
     "metadata": {},
     "output_type": "display_data"
    },
    {
     "name": "stdout",
     "output_type": "stream",
     "text": [
      "Mean: tensor([0.4644, 0.4767, 0.4162])\n",
      "Standard Deviation: tensor([0.1852, 0.1733, 0.1974])\n"
     ]
    }
   ],
   "source": [
    "mean, std = get_mean_std(dataset_loader)\n",
    "\n",
    "print(f\"Mean: {mean}\")\n",
    "print(f\"Standard Deviation: {std}\")"
   ]
  },
  {
   "cell_type": "code",
   "execution_count": 9,
   "id": "9a22a8e9",
   "metadata": {},
   "outputs": [],
   "source": [
    "transform_norm = transforms.Compose(\n",
    "    [\n",
    "     ConvertToRGB(),\n",
    "     transforms.Resize((224, 224)),\n",
    "     transforms.ToTensor(),\n",
    "     transforms.Normalize(mean=mean, std=std)\n",
    "    ]\n",
    ")"
   ]
  },
  {
   "cell_type": "markdown",
   "id": "6c4f61c6",
   "metadata": {},
   "source": [
    "Make a new normalized dataset using \"ImageFolder\" and a new \"DataLoader\""
   ]
  },
  {
   "cell_type": "code",
   "execution_count": 10,
   "id": "91a42bb4",
   "metadata": {},
   "outputs": [],
   "source": [
    "norm_dataset = datasets.ImageFolder(root=train_dir, transform=transform_norm)\n",
    "norm_loader = DataLoader(dataset=norm_dataset, batch_size=20)"
   ]
  },
  {
   "cell_type": "markdown",
   "id": "08d148dc",
   "metadata": {},
   "source": [
    "Use the \"get_mean_std\" function to verify the mean and standard deviation are correct in the \"norm_loader\" data"
   ]
  },
  {
   "cell_type": "code",
   "execution_count": 11,
   "id": "e58390f2",
   "metadata": {},
   "outputs": [
    {
     "data": {
      "application/vnd.jupyter.widget-view+json": {
       "model_id": "1d615882f2354d86939bb9cd35143dd7",
       "version_major": 2,
       "version_minor": 0
      },
      "text/plain": [
       "Computing mean and std:   0%|          | 0/68 [00:00<?, ?it/s]"
      ]
     },
     "metadata": {},
     "output_type": "display_data"
    },
    {
     "name": "stdout",
     "output_type": "stream",
     "text": [
      "Mean: tensor([-3.1131e-07, -8.0422e-08, -1.3247e-07])\n",
      "Standard Deviation: tensor([1.0000, 1.0000, 1.0000])\n"
     ]
    }
   ],
   "source": [
    "norm_mean, norm_std = get_mean_std(norm_loader)\n",
    "\n",
    "print(f\"Mean: {norm_mean}\")\n",
    "print(f\"Standard Deviation: {norm_std}\")"
   ]
  },
  {
   "cell_type": "markdown",
   "id": "935545eb",
   "metadata": {},
   "source": [
    "## Train and Validation Splitting"
   ]
  },
  {
   "cell_type": "code",
   "execution_count": 12,
   "id": "f79c0e0a",
   "metadata": {},
   "outputs": [
    {
     "data": {
      "text/plain": [
       "<torch._C.Generator at 0x194813a4e30>"
      ]
     },
     "execution_count": 12,
     "metadata": {},
     "output_type": "execute_result"
    }
   ],
   "source": [
    "g = torch.Generator()\n",
    "g.manual_seed(42)"
   ]
  },
  {
   "cell_type": "code",
   "execution_count": 13,
   "id": "b5d3c3d1",
   "metadata": {},
   "outputs": [
    {
     "name": "stdout",
     "output_type": "stream",
     "text": [
      "Train data is 80.04% of full data\n",
      "Validation data is 19.96 of full data\n"
     ]
    }
   ],
   "source": [
    "train_dataset, val_dataset = random_split(norm_dataset, [0.8, 0.2])\n",
    "\n",
    "length_train = len(train_dataset)\n",
    "length_val = len(val_dataset)\n",
    "length_dataset = len(norm_dataset)\n",
    "percent_train = np.round(100*length_train / length_dataset, 2)\n",
    "percent_val = np.round(100*length_val / length_dataset, 2)\n",
    "\n",
    "print(f\"Train data is {percent_train}% of full data\")\n",
    "print(f\"Validation data is {percent_val} of full data\")"
   ]
  },
  {
   "cell_type": "code",
   "execution_count": 14,
   "id": "b91881a1",
   "metadata": {},
   "outputs": [],
   "source": [
    "def class_counts(dataset):\n",
    "    ds = dataset.dataset if isinstance(dataset, Subset) else dataset\n",
    "    counts = Counter(lbl for _, lbl in tqdm(dataset, desc=\"Counting classes\"))\n",
    "    return pd.Series({cls: counts[idx] for cls, idx in ds.class_to_idx.items()})"
   ]
  },
  {
   "cell_type": "code",
   "execution_count": 15,
   "id": "2ce3ee8b",
   "metadata": {},
   "outputs": [
    {
     "data": {
      "application/vnd.jupyter.widget-view+json": {
       "model_id": "2c91a2054b414ee395343cbdc3912dbb",
       "version_major": 2,
       "version_minor": 0
      },
      "text/plain": [
       "Counting classes:   0%|          | 0/1087 [00:00<?, ?it/s]"
      ]
     },
     "metadata": {},
     "output_type": "display_data"
    },
    {
     "data": {
      "text/plain": [
       "cassava_brown_streak        8\n",
       "cassava_mosaic_disease     23\n",
       "healthy                   313\n",
       "potato_early_blight       151\n",
       "potato_late_blight        157\n",
       "tomato_early_blight       147\n",
       "tomato_late_blight        288\n",
       "dtype: int64"
      ]
     },
     "execution_count": 15,
     "metadata": {},
     "output_type": "execute_result"
    }
   ],
   "source": [
    "train_class_distributions = class_counts(train_dataset)\n",
    "train_class_distributions"
   ]
  },
  {
   "cell_type": "code",
   "execution_count": 16,
   "id": "e01b241b",
   "metadata": {},
   "outputs": [
    {
     "data": {
      "image/png": "[encoded data removed]",
      "text/plain": [
       "<Figure size 640x480 with 1 Axes>"
      ]
     },
     "metadata": {},
     "output_type": "display_data"
    }
   ],
   "source": [
    "train_class_distributions.sort_values().plot(kind=\"bar\")\n",
    "\n",
    "plt.xlabel(\"Class Label\")\n",
    "plt.ylabel(\"Frequency [Count]\")\n",
    "plt.title(\"Class Distribution in Training Set\");"
   ]
  },
  {
   "cell_type": "code",
   "execution_count": 17,
   "id": "0bdf6c83",
   "metadata": {},
   "outputs": [
    {
     "data": {
      "application/vnd.jupyter.widget-view+json": {
       "model_id": "060bd053af384947af296e0dd61853e2",
       "version_major": 2,
       "version_minor": 0
      },
      "text/plain": [
       "Counting classes:   0%|          | 0/271 [00:00<?, ?it/s]"
      ]
     },
     "metadata": {},
     "output_type": "display_data"
    },
    {
     "data": {
      "image/png": "[encoded data removed]",
      "text/plain": [
       "<Figure size 640x480 with 1 Axes>"
      ]
     },
     "metadata": {},
     "output_type": "display_data"
    }
   ],
   "source": [
    "validation_class_distributions = class_counts(val_dataset)\n",
    "\n",
    "validation_class_distributions.sort_values().plot(kind=\"bar\")\n",
    "\n",
    "plt.xlabel(\"Class Label\")\n",
    "plt.ylabel(\"Frequency [Count]\")\n",
    "plt.title(\"Class Distribution in Validation Set\");"
   ]
  },
  {
   "cell_type": "code",
   "execution_count": null,
   "id": "086cc400",
   "metadata": {},
   "outputs": [],
   "source": []
  }
 ],
 "metadata": {
  "kernelspec": {
   "display_name": "tubato_env",
   "language": "python",
   "name": "python3"
  },
  "language_info": {
   "codemirror_mode": {
    "name": "ipython",
    "version": 3
   },
   "file_extension": ".py",
   "mimetype": "text/x-python",
   "name": "python",
   "nbconvert_exporter": "python",
   "pygments_lexer": "ipython3",
   "version": "3.11.13"
  }
 },
 "nbformat": 4,
 "nbformat_minor": 5
}
